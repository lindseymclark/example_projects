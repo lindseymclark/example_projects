{
 "cells": [
  {
   "cell_type": "code",
   "execution_count": 1,
   "id": "453094f3-7030-418c-9bb0-0a47bec8af71",
   "metadata": {},
   "outputs": [],
   "source": [
    "#import libraries\n",
    "import numpy as np"
   ]
  },
  {
   "cell_type": "markdown",
   "id": "5fec7977-4621-4890-a7de-7064b4ea03f7",
   "metadata": {
    "tags": []
   },
   "source": [
    "### https://towardsdatascience.com/introduction-to-naca-airfoil-aerodynamics-in-python-72a1c3ee46b1\n",
    "1. Airfoil is a cross-section of a wing or other object whose motion through a gas can generate lift.\n"
   ]
  },
  {
   "cell_type": "markdown",
   "id": "ae30ee8c-805b-4945-ac12-9375033cfe27",
   "metadata": {},
   "source": [
    "$\\hat{Y} = \\hat{\\beta}_{0} + \\sum \\limits _{j=1} ^{p} X_{j}\\hat{\\beta}_{j} $"
   ]
  },
  {
   "cell_type": "code",
   "execution_count": null,
   "id": "38fad11b-20c0-429c-87ea-de917c1b4094",
   "metadata": {},
   "outputs": [],
   "source": []
  },
  {
   "cell_type": "code",
   "execution_count": null,
   "id": "30c4c0cb-0855-47b4-bc89-a5354297cfa8",
   "metadata": {},
   "outputs": [],
   "source": []
  }
 ],
 "metadata": {
  "kernelspec": {
   "display_name": "Python 3 (ipykernel)",
   "language": "python",
   "name": "python3"
  },
  "language_info": {
   "codemirror_mode": {
    "name": "ipython",
    "version": 3
   },
   "file_extension": ".py",
   "mimetype": "text/x-python",
   "name": "python",
   "nbconvert_exporter": "python",
   "pygments_lexer": "ipython3",
   "version": "3.7.3"
  }
 },
 "nbformat": 4,
 "nbformat_minor": 5
}
